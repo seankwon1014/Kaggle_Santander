{
 "cells": [
  {
   "cell_type": "markdown",
   "metadata": {},
   "source": [
    "## Import Modules"
   ]
  },
  {
   "cell_type": "code",
   "execution_count": 1,
   "metadata": {},
   "outputs": [],
   "source": [
    "import numpy as np\n",
    "import pandas as pd\n",
    "from numba import jit\n",
    "import lightgbm as lgb\n",
    "from sklearn.metrics import roc_auc_score\n",
    "from sklearn.model_selection import StratifiedKFold, KFold\n",
    "import seaborn as sns\n",
    "\n",
    "import matplotlib\n",
    "matplotlib.use('TkAgg')\n",
    "import matplotlib.pyplot as plt\n",
    "\n",
    "\n",
    "import os\n",
    "import warnings\n",
    "warnings.filterwarnings('ignore')"
   ]
  },
  {
   "cell_type": "markdown",
   "metadata": {},
   "source": [
    "## Import Data"
   ]
  },
  {
   "cell_type": "code",
   "execution_count": 2,
   "metadata": {},
   "outputs": [],
   "source": [
    "os.chdir('C:/Kaggle')\n",
    "\n",
    "train = pd.read_csv('train.csv')\n",
    "test = pd.read_csv('test.csv')\n",
    "features = [c for c in train.columns if c not in ['ID_code', 'target']]\n",
    "target = train['target']"
   ]
  },
  {
   "cell_type": "markdown",
   "metadata": {},
   "source": [
    "## Augment Function"
   ]
  },
  {
   "cell_type": "code",
   "execution_count": 3,
   "metadata": {},
   "outputs": [],
   "source": [
    "def augment(x,y,t=2):\n",
    "    xs,xn = [],[]\n",
    "    for i in range(t):\n",
    "        mask = y>0\n",
    "        x1 = x[mask].copy()\n",
    "        ids = np.arange(x1.shape[0])\n",
    "        for c in range(x1.shape[1]):\n",
    "            np.random.shuffle(ids)\n",
    "            x1[:,c] = x1[ids][:,c]\n",
    "        xs.append(x1)\n",
    "\n",
    "    for i in range(t//2):\n",
    "        mask = y==0\n",
    "        x1 = x[mask].copy()\n",
    "        ids = np.arange(x1.shape[0])\n",
    "        for c in range(x1.shape[1]):\n",
    "            np.random.shuffle(ids)\n",
    "            x1[:,c] = x1[ids][:,c]\n",
    "        xn.append(x1)\n",
    "\n",
    "    xs = np.vstack(xs)\n",
    "    xn = np.vstack(xn)\n",
    "    ys = np.ones(xs.shape[0])\n",
    "    yn = np.zeros(xn.shape[0])\n",
    "    x = np.vstack([x,xs,xn])\n",
    "    y = np.concatenate([y,ys,yn])\n",
    "    return x,y"
   ]
  },
  {
   "cell_type": "markdown",
   "metadata": {},
   "source": [
    "## Hyper Parameters"
   ]
  },
  {
   "cell_type": "code",
   "execution_count": 4,
   "metadata": {},
   "outputs": [],
   "source": [
    "param = {\n",
    "    'bagging_freq': 5,\n",
    "    'bagging_fraction': 0.335,\n",
    "    'boost_from_average':'false',\n",
    "    'boost': 'gbdt',\n",
    "    'feature_fraction': 0.041,\n",
    "    'learning_rate': 0.0083,\n",
    "    'max_depth': -1,\n",
    "    'metric':'auc',\n",
    "    'min_data_in_leaf': 80,\n",
    "    'min_sum_hessian_in_leaf': 10.0,\n",
    "    'num_leaves': 13,\n",
    "    'num_threads': 8,\n",
    "    'tree_learner': 'serial',\n",
    "    'objective': 'binary',\n",
    "    'verbosity': -1\n",
    "}"
   ]
  },
  {
   "cell_type": "markdown",
   "metadata": {},
   "source": [
    "## LightGBM with K-folds CV"
   ]
  },
  {
   "cell_type": "code",
   "execution_count": 5,
   "metadata": {},
   "outputs": [
    {
     "name": "stdout",
     "output_type": "stream",
     "text": [
      "Fold idx:1\n",
      "Training until validation scores don't improve for 4000 rounds.\n",
      "[5000]\ttraining's auc: 0.912493\tvalid_1's auc: 0.896426\n",
      "[10000]\ttraining's auc: 0.922472\tvalid_1's auc: 0.900592\n",
      "[15000]\ttraining's auc: 0.930026\tvalid_1's auc: 0.901593\n",
      "Early stopping, best iteration is:\n",
      "[15077]\ttraining's auc: 0.930129\tvalid_1's auc: 0.901607\n",
      "Fold idx:2\n",
      "Training until validation scores don't improve for 4000 rounds.\n",
      "[5000]\ttraining's auc: 0.912774\tvalid_1's auc: 0.895506\n",
      "[10000]\ttraining's auc: 0.922635\tvalid_1's auc: 0.898671\n",
      "[15000]\ttraining's auc: 0.93015\tvalid_1's auc: 0.899083\n",
      "Early stopping, best iteration is:\n",
      "[12546]\ttraining's auc: 0.926611\tvalid_1's auc: 0.899228\n",
      "Fold idx:3\n",
      "Training until validation scores don't improve for 4000 rounds.\n",
      "[5000]\ttraining's auc: 0.912639\tvalid_1's auc: 0.88926\n",
      "[10000]\ttraining's auc: 0.922486\tvalid_1's auc: 0.892514\n",
      "[15000]\ttraining's auc: 0.930006\tvalid_1's auc: 0.892616\n",
      "Early stopping, best iteration is:\n",
      "[13436]\ttraining's auc: 0.927745\tvalid_1's auc: 0.892804\n",
      "Fold idx:4\n",
      "Training until validation scores don't improve for 4000 rounds.\n",
      "[5000]\ttraining's auc: 0.912156\tvalid_1's auc: 0.90011\n",
      "[10000]\ttraining's auc: 0.922141\tvalid_1's auc: 0.902888\n",
      "[15000]\ttraining's auc: 0.929722\tvalid_1's auc: 0.903121\n",
      "Early stopping, best iteration is:\n",
      "[11597]\ttraining's auc: 0.924674\tvalid_1's auc: 0.903191\n",
      "Fold idx:5\n",
      "Training until validation scores don't improve for 4000 rounds.\n",
      "[5000]\ttraining's auc: 0.912277\tvalid_1's auc: 0.895868\n",
      "[10000]\ttraining's auc: 0.922195\tvalid_1's auc: 0.898743\n",
      "[15000]\ttraining's auc: 0.929767\tvalid_1's auc: 0.899085\n",
      "[20000]\ttraining's auc: 0.936615\tvalid_1's auc: 0.898942\n",
      "Early stopping, best iteration is:\n",
      "[17147]\ttraining's auc: 0.932769\tvalid_1's auc: 0.899159\n",
      "Fold idx:6\n",
      "Training until validation scores don't improve for 4000 rounds.\n",
      "[5000]\ttraining's auc: 0.912223\tvalid_1's auc: 0.898725\n",
      "[10000]\ttraining's auc: 0.922\tvalid_1's auc: 0.901836\n",
      "[15000]\ttraining's auc: 0.929613\tvalid_1's auc: 0.902067\n",
      "Early stopping, best iteration is:\n",
      "[13096]\ttraining's auc: 0.926821\tvalid_1's auc: 0.902215\n",
      "Fold idx:7\n",
      "Training until validation scores don't improve for 4000 rounds.\n",
      "[5000]\ttraining's auc: 0.9117\tvalid_1's auc: 0.902701\n",
      "[10000]\ttraining's auc: 0.921655\tvalid_1's auc: 0.905335\n",
      "[15000]\ttraining's auc: 0.929182\tvalid_1's auc: 0.90549\n",
      "Early stopping, best iteration is:\n",
      "[12804]\ttraining's auc: 0.926013\tvalid_1's auc: 0.90562\n",
      "Fold idx:8\n",
      "Training until validation scores don't improve for 4000 rounds.\n",
      "[5000]\ttraining's auc: 0.912405\tvalid_1's auc: 0.896695\n",
      "[10000]\ttraining's auc: 0.922131\tvalid_1's auc: 0.900131\n",
      "[15000]\ttraining's auc: 0.929564\tvalid_1's auc: 0.900272\n",
      "Early stopping, best iteration is:\n",
      "[12920]\ttraining's auc: 0.926585\tvalid_1's auc: 0.900502\n",
      "Fold idx:9\n",
      "Training until validation scores don't improve for 4000 rounds.\n",
      "[5000]\ttraining's auc: 0.912216\tvalid_1's auc: 0.900425\n",
      "[10000]\ttraining's auc: 0.922155\tvalid_1's auc: 0.903789\n",
      "[15000]\ttraining's auc: 0.929687\tvalid_1's auc: 0.904008\n",
      "Early stopping, best iteration is:\n",
      "[13930]\ttraining's auc: 0.928137\tvalid_1's auc: 0.904058\n",
      "Fold idx:10\n",
      "Training until validation scores don't improve for 4000 rounds.\n",
      "[5000]\ttraining's auc: 0.912172\tvalid_1's auc: 0.9032\n",
      "[10000]\ttraining's auc: 0.921986\tvalid_1's auc: 0.906164\n",
      "[15000]\ttraining's auc: 0.929608\tvalid_1's auc: 0.906226\n",
      "Early stopping, best iteration is:\n",
      "[12188]\ttraining's auc: 0.925454\tvalid_1's auc: 0.906411\n",
      "Fold idx:11\n",
      "Training until validation scores don't improve for 4000 rounds.\n",
      "[5000]\ttraining's auc: 0.912216\tvalid_1's auc: 0.897507\n",
      "[10000]\ttraining's auc: 0.922102\tvalid_1's auc: 0.900718\n",
      "[15000]\ttraining's auc: 0.929661\tvalid_1's auc: 0.901014\n",
      "Early stopping, best iteration is:\n",
      "[13934]\ttraining's auc: 0.928142\tvalid_1's auc: 0.90121\n"
     ]
    }
   ],
   "source": [
    "num_folds = 11\n",
    "features = [c for c in train.columns if c not in ['ID_code', 'target']]\n",
    "\n",
    "folds = KFold(n_splits=num_folds, random_state=2319)\n",
    "oof = np.zeros(len(train))\n",
    "getVal = np.zeros(len(train))\n",
    "predictions = np.zeros(len(target))\n",
    "feature_importance_df = pd.DataFrame()\n",
    "\n",
    "for fold_, (trn_idx, val_idx) in enumerate(folds.split(train.values, target.values)):\n",
    "    X_train, y_train = train.iloc[trn_idx][features], target.iloc[trn_idx]\n",
    "    X_valid, y_valid = train.iloc[val_idx][features], target.iloc[val_idx]\n",
    "\n",
    "    X_tr, y_tr = augment(X_train.values, y_train.values)\n",
    "    X_tr = pd.DataFrame(X_tr)\n",
    "\n",
    "    print(\"Fold idx:{}\".format(fold_ + 1))\n",
    "    trn_data = lgb.Dataset(X_tr, label=y_tr)\n",
    "    val_data = lgb.Dataset(X_valid, label=y_valid)\n",
    "\n",
    "    clf = lgb.train(param, trn_data, 1000000, valid_sets=[trn_data, val_data], verbose_eval=5000,\n",
    "                    early_stopping_rounds=4000)\n",
    "    oof[val_idx] = clf.predict(train.iloc[val_idx][features], num_iteration=clf.best_iteration)\n",
    "    getVal[val_idx] += clf.predict(train.iloc[val_idx][features], num_iteration=clf.best_iteration) / folds.n_splits\n",
    "\n",
    "    fold_importance_df = pd.DataFrame()\n",
    "    fold_importance_df[\"feature\"] = features\n",
    "    fold_importance_df[\"importance\"] = clf.feature_importance()\n",
    "    fold_importance_df[\"fold\"] = fold_ + 1\n",
    "    feature_importance_df = pd.concat([feature_importance_df, fold_importance_df], axis=0)\n",
    "\n",
    "    predictions += clf.predict(test[features], num_iteration=clf.best_iteration) / folds.n_splits"
   ]
  },
  {
   "cell_type": "markdown",
   "metadata": {},
   "source": [
    "## Submmision"
   ]
  },
  {
   "cell_type": "code",
   "execution_count": 6,
   "metadata": {},
   "outputs": [
    {
     "data": {
      "text/html": [
       "<div>\n",
       "<style scoped>\n",
       "    .dataframe tbody tr th:only-of-type {\n",
       "        vertical-align: middle;\n",
       "    }\n",
       "\n",
       "    .dataframe tbody tr th {\n",
       "        vertical-align: top;\n",
       "    }\n",
       "\n",
       "    .dataframe thead th {\n",
       "        text-align: right;\n",
       "    }\n",
       "</style>\n",
       "<table border=\"1\" class=\"dataframe\">\n",
       "  <thead>\n",
       "    <tr style=\"text-align: right;\">\n",
       "      <th></th>\n",
       "      <th>ID_code</th>\n",
       "      <th>target</th>\n",
       "    </tr>\n",
       "  </thead>\n",
       "  <tbody>\n",
       "    <tr>\n",
       "      <th>0</th>\n",
       "      <td>test_0</td>\n",
       "      <td>0.143631</td>\n",
       "    </tr>\n",
       "    <tr>\n",
       "      <th>1</th>\n",
       "      <td>test_1</td>\n",
       "      <td>0.267358</td>\n",
       "    </tr>\n",
       "    <tr>\n",
       "      <th>2</th>\n",
       "      <td>test_2</td>\n",
       "      <td>0.225609</td>\n",
       "    </tr>\n",
       "    <tr>\n",
       "      <th>3</th>\n",
       "      <td>test_3</td>\n",
       "      <td>0.290507</td>\n",
       "    </tr>\n",
       "    <tr>\n",
       "      <th>4</th>\n",
       "      <td>test_4</td>\n",
       "      <td>0.060658</td>\n",
       "    </tr>\n",
       "  </tbody>\n",
       "</table>\n",
       "</div>"
      ],
      "text/plain": [
       "  ID_code    target\n",
       "0  test_0  0.143631\n",
       "1  test_1  0.267358\n",
       "2  test_2  0.225609\n",
       "3  test_3  0.290507\n",
       "4  test_4  0.060658"
      ]
     },
     "execution_count": 6,
     "metadata": {},
     "output_type": "execute_result"
    }
   ],
   "source": [
    "submission = pd.DataFrame({\"ID_code\": test.ID_code.values})\n",
    "submission[\"target\"] = predictions\n",
    "submission.to_csv(\"submission_new_lgbm.csv\", index=False)\n",
    "\n",
    "submission.head()"
   ]
  }
 ],
 "metadata": {
  "kernelspec": {
   "display_name": "Python 3",
   "language": "python",
   "name": "python3"
  },
  "language_info": {
   "codemirror_mode": {
    "name": "ipython",
    "version": 3
   },
   "file_extension": ".py",
   "mimetype": "text/x-python",
   "name": "python",
   "nbconvert_exporter": "python",
   "pygments_lexer": "ipython3",
   "version": "3.7.3"
  }
 },
 "nbformat": 4,
 "nbformat_minor": 2
}
